{
 "cells": [
  {
   "cell_type": "code",
   "execution_count": 2,
   "metadata": {},
   "outputs": [],
   "source": [
    "import pandas as pd\n",
    "import mysql.connector\n",
    "import json"
   ]
  },
  {
   "cell_type": "code",
   "execution_count": 3,
   "metadata": {},
   "outputs": [
    {
     "name": "stdout",
     "output_type": "stream",
     "text": [
      "(4810, 10)\n"
     ]
    }
   ],
   "source": [
    "df = pd.read_csv(\"../data/the_grammy_awards.csv\")\n",
    "print(df.shape)"
   ]
  },
  {
   "cell_type": "code",
   "execution_count": 4,
   "metadata": {},
   "outputs": [
    {
     "name": "stdout",
     "output_type": "stream",
     "text": [
      "   year                              title               published_at  \\\n",
      "0  2019  62nd Annual GRAMMY Awards  (2019)  2020-05-19T05:10:28-07:00   \n",
      "1  2019  62nd Annual GRAMMY Awards  (2019)  2020-05-19T05:10:28-07:00   \n",
      "2  2019  62nd Annual GRAMMY Awards  (2019)  2020-05-19T05:10:28-07:00   \n",
      "3  2019  62nd Annual GRAMMY Awards  (2019)  2020-05-19T05:10:28-07:00   \n",
      "4  2019  62nd Annual GRAMMY Awards  (2019)  2020-05-19T05:10:28-07:00   \n",
      "\n",
      "                  updated_at            category     nominee         artist  \\\n",
      "0  2020-05-19T05:10:28-07:00  Record Of The Year     Bad Guy  Billie Eilish   \n",
      "1  2020-05-19T05:10:28-07:00  Record Of The Year     Hey, Ma       Bon Iver   \n",
      "2  2020-05-19T05:10:28-07:00  Record Of The Year     7 rings  Ariana Grande   \n",
      "3  2020-05-19T05:10:28-07:00  Record Of The Year  Hard Place         H.E.R.   \n",
      "4  2020-05-19T05:10:28-07:00  Record Of The Year        Talk         Khalid   \n",
      "\n",
      "                                             workers  \\\n",
      "0  Finneas O'Connell, producer; Rob Kinelski & Fi...   \n",
      "1  BJ Burton, Brad Cook, Chris Messina & Justin V...   \n",
      "2  Charles Anderson, Tommy Brown, Michael Foster ...   \n",
      "3  Rodney “Darkchild” Jerkins, producer; Joseph H...   \n",
      "4  Disclosure & Denis Kosiak, producers; Ingmar C...   \n",
      "\n",
      "                                                 img  winner  \n",
      "0  https://www.grammy.com/sites/com/files/styles/...    True  \n",
      "1  https://www.grammy.com/sites/com/files/styles/...    True  \n",
      "2  https://www.grammy.com/sites/com/files/styles/...    True  \n",
      "3  https://www.grammy.com/sites/com/files/styles/...    True  \n",
      "4  https://www.grammy.com/sites/com/files/styles/...    True  \n"
     ]
    }
   ],
   "source": [
    "print(df.head())"
   ]
  },
  {
   "cell_type": "code",
   "execution_count": 6,
   "metadata": {},
   "outputs": [
    {
     "data": {
      "text/plain": [
       "year              62\n",
       "title             62\n",
       "published_at       4\n",
       "updated_at        10\n",
       "category         638\n",
       "nominee         4131\n",
       "artist          1658\n",
       "workers         2366\n",
       "img             1463\n",
       "winner             1\n",
       "dtype: int64"
      ]
     },
     "execution_count": 6,
     "metadata": {},
     "output_type": "execute_result"
    }
   ],
   "source": [
    "df.nunique()"
   ]
  },
  {
   "cell_type": "code",
   "execution_count": 5,
   "metadata": {},
   "outputs": [
    {
     "data": {
      "text/plain": [
       "year               0\n",
       "title              0\n",
       "published_at       0\n",
       "updated_at         0\n",
       "category           0\n",
       "nominee            6\n",
       "artist          1840\n",
       "workers         2190\n",
       "img             1367\n",
       "winner             0\n",
       "dtype: int64"
      ]
     },
     "execution_count": 5,
     "metadata": {},
     "output_type": "execute_result"
    }
   ],
   "source": [
    "df.isnull().sum()"
   ]
  },
  {
   "cell_type": "code",
   "execution_count": 8,
   "metadata": {},
   "outputs": [],
   "source": [
    "# replacing nulls\n",
    "df = df.fillna({'nominee': 'unknown', 'artist': 'unknown', 'workers': 'unknown', 'img': 'unknown'})"
   ]
  },
  {
   "cell_type": "code",
   "execution_count": 9,
   "metadata": {},
   "outputs": [
    {
     "data": {
      "text/plain": [
       "year            0\n",
       "title           0\n",
       "published_at    0\n",
       "updated_at      0\n",
       "category        0\n",
       "nominee         0\n",
       "artist          0\n",
       "workers         0\n",
       "img             0\n",
       "winner          0\n",
       "dtype: int64"
      ]
     },
     "execution_count": 9,
     "metadata": {},
     "output_type": "execute_result"
    }
   ],
   "source": [
    "df.isnull().sum()"
   ]
  },
  {
   "cell_type": "code",
   "execution_count": 10,
   "metadata": {},
   "outputs": [],
   "source": [
    "with open('../db_config.json') as config_json:\n",
    "    config = json.load(config_json)\n",
    "\n",
    "conx = mysql.connector.connect(**config) "
   ]
  },
  {
   "cell_type": "code",
   "execution_count": 19,
   "metadata": {},
   "outputs": [
    {
     "name": "stdout",
     "output_type": "stream",
     "text": [
      "          Field              Type Null Key Default Extra\n",
      "0          year     b'varchar(5)'  YES  []    None      \n",
      "1         title    b'varchar(40)'  YES  []    None      \n",
      "2  published_at       b'datetime'  YES  []    None      \n",
      "3    updated_at       b'datetime'  YES  []    None      \n",
      "4      category   b'varchar(255)'  YES  []    None      \n",
      "5       nominee   b'varchar(255)'  YES  []    None      \n",
      "6        artist   b'varchar(255)'  YES  []    None      \n",
      "7       workers  b'varchar(1000)'  YES  []    None      \n",
      "8           img   b'varchar(350)'  YES  []    None      \n",
      "9        winner     b'tinyint(1)'  YES  []    None      \n"
     ]
    }
   ],
   "source": [
    "mycursor = conx.cursor()\n",
    "\n",
    "mycursor.execute(\"CREATE TABLE IF NOT EXISTS grammys(year VARCHAR(5), title VARCHAR(40), published_at datetime, updated_at datetime, category VARCHAR(255), nominee VARCHAR(255), artist VARCHAR(255), workers VARCHAR(1000), img VARCHAR(350), winner boolean)\")\n",
    "\n",
    "query = \"DESCRIBE grammys\"\n",
    "mycursor.execute(query)\n",
    "\n",
    "description_table = mycursor.fetchall()\n",
    "\n",
    "mycursor.close()\n",
    "\n",
    "desc_table=pd.DataFrame(description_table, columns=['Field', 'Type', 'Null', 'Key', 'Default', 'Extra'])\n",
    "print(desc_table)"
   ]
  },
  {
   "cell_type": "code",
   "execution_count": 18,
   "metadata": {},
   "outputs": [
    {
     "data": {
      "text/plain": [
       "True"
      ]
     },
     "execution_count": 18,
     "metadata": {},
     "output_type": "execute_result"
    }
   ],
   "source": [
    "#Delete table, just in case :)... delete because of varchar's lengths\n",
    "# mycursor = conx.cursor()\n",
    "\n",
    "# query = \"DROP table grammys\"\n",
    "# mycursor.execute(query)\n",
    "\n",
    "# mycursor.close()"
   ]
  },
  {
   "cell_type": "code",
   "execution_count": 20,
   "metadata": {},
   "outputs": [
    {
     "name": "stderr",
     "output_type": "stream",
     "text": [
      "C:\\Users\\Mrìa Angelica\\AppData\\Local\\Temp\\ipykernel_20072\\1278858464.py:6: FutureWarning: Series.__getitem__ treating keys as positions is deprecated. In a future version, integer keys will always be treated as labels (consistent with DataFrame behavior). To access a value by position, use `ser.iloc[pos]`\n",
      "  VALUES (%s,%s,%s,%s,%s,%s,%s,%s,%s,%s)\"\"\", (row[0], row[1], row[2], row[3],\n",
      "C:\\Users\\Mrìa Angelica\\AppData\\Local\\Temp\\ipykernel_20072\\1278858464.py:7: FutureWarning: Series.__getitem__ treating keys as positions is deprecated. In a future version, integer keys will always be treated as labels (consistent with DataFrame behavior). To access a value by position, use `ser.iloc[pos]`\n",
      "  row[4], row[5], row[6], row[7],\n",
      "C:\\Users\\Mrìa Angelica\\AppData\\Local\\Temp\\ipykernel_20072\\1278858464.py:8: FutureWarning: Series.__getitem__ treating keys as positions is deprecated. In a future version, integer keys will always be treated as labels (consistent with DataFrame behavior). To access a value by position, use `ser.iloc[pos]`\n",
      "  row[8], row[9]))\n"
     ]
    },
    {
     "data": {
      "text/plain": [
       "True"
      ]
     },
     "execution_count": 20,
     "metadata": {},
     "output_type": "execute_result"
    }
   ],
   "source": [
    "mycursor = conx.cursor()\n",
    "\n",
    "# Iterar a través de las filas del DataFrame e insertarlas en la tabla\n",
    "for index, row in df.iterrows():\n",
    "    mycursor.execute(\"\"\"INSERT INTO grammys (year,title,published_at,updated_at,category,nominee,artist,workers,img,winner) \n",
    "                    VALUES (%s,%s,%s,%s,%s,%s,%s,%s,%s,%s)\"\"\", (row[0], row[1], row[2], row[3],\n",
    "                    row[4], row[5], row[6], row[7],\n",
    "                    row[8], row[9]))\n",
    "\n",
    "\n",
    "# with open('../data/the_grammy_awards.csv', newline='', encoding=\"utf8\") as csvfile:\n",
    "#         reader = csv.reader(csvfile, delimiter=',')\n",
    "#         next(reader) # ignore column names\n",
    "#         for row in reader:\n",
    "#             datos= (row[0], row[1], row[2], row[3],\n",
    "#                     row[4], row[5], row[6], row[7],\n",
    "#                     row[8], row[9])\n",
    "#             mycursor.execute(insert, datos)\n",
    "    \n",
    "conx.commit()\n",
    "\n",
    "mycursor.close()"
   ]
  }
 ],
 "metadata": {
  "kernelspec": {
   "display_name": "venv",
   "language": "python",
   "name": "python3"
  },
  "language_info": {
   "codemirror_mode": {
    "name": "ipython",
    "version": 3
   },
   "file_extension": ".py",
   "mimetype": "text/x-python",
   "name": "python",
   "nbconvert_exporter": "python",
   "pygments_lexer": "ipython3",
   "version": "3.10.11"
  },
  "orig_nbformat": 4
 },
 "nbformat": 4,
 "nbformat_minor": 2
}
